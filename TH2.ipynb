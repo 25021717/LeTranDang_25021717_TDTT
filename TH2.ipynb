{
 "cells": [
  {
   "cell_type": "code",
   "execution_count": 1,
   "id": "fce0ff7f-9737-4053-9a76-82fdc30f5a57",
   "metadata": {},
   "outputs": [
    {
     "name": "stdout",
     "output_type": "stream",
     "text": [
      "Hello Worlds\n"
     ]
    }
   ],
   "source": [
    "#2A1\n",
    "print(\"Hello Worlds\")"
   ]
  },
  {
   "cell_type": "code",
   "execution_count": 2,
   "id": "967f872c-46f9-4635-9f4f-3689e5a30b6f",
   "metadata": {},
   "outputs": [
    {
     "name": "stdin",
     "output_type": "stream",
     "text": [
      " Dang dep trai\n"
     ]
    },
    {
     "name": "stdout",
     "output_type": "stream",
     "text": [
      "Hello Dang dep trai\n"
     ]
    }
   ],
   "source": [
    "#W2A2\n",
    "name = input()\n",
    "print(\"Hello\", name)"
   ]
  },
  {
   "cell_type": "code",
   "execution_count": 3,
   "id": "754395e3-a7ba-4b5c-acba-46428004cc57",
   "metadata": {},
   "outputs": [
    {
     "name": "stdin",
     "output_type": "stream",
     "text": [
      " 2 3\n"
     ]
    },
    {
     "name": "stdout",
     "output_type": "stream",
     "text": [
      "2 + 3 = 5\n",
      "2 - 3 = -1\n",
      "2 * 3 = 6\n",
      "2 / 3 = 0.67\n",
      "2 // 3 = 0\n",
      "2 % 3 = 2\n"
     ]
    }
   ],
   "source": [
    "#W2A3\n",
    "a, b = map(int, input().split())\n",
    "print(f'{a} + {b} = {a + b}')\n",
    "print(f'{a} - {b} = {a - b}')\n",
    "print(f'{a} * {b} = {a * b}')\n",
    "print(f'{a} / {b} = {a/b:.2f}')\n",
    "print(f'{a} // {b} = {a//b}')\n",
    "print(f'{a} % {b} = {a % b}')"
   ]
  },
  {
   "cell_type": "code",
   "execution_count": 4,
   "id": "e549f77d-f993-4c4e-ad28-aad6ed9ed9ba",
   "metadata": {},
   "outputs": [
    {
     "name": "stdin",
     "output_type": "stream",
     "text": [
      "  8 8 9 10 9 10\n"
     ]
    },
    {
     "name": "stdout",
     "output_type": "stream",
     "text": [
      "9.3\n"
     ]
    }
   ],
   "source": [
    "#W2A4\n",
    "a1, b1, c1, a2, b2, a3 = map(int,input().split())\n",
    "tb = ((a1 + b1 + c1) + (a2 + b2) * 2 + a3 * 3) / 10\n",
    "print(f'{tb:.1f}')"
   ]
  },
  {
   "cell_type": "code",
   "execution_count": 5,
   "id": "3bb63d84-2f0f-4a40-9e99-02250a452f1e",
   "metadata": {},
   "outputs": [
    {
     "name": "stdin",
     "output_type": "stream",
     "text": [
      " 2 3\n"
     ]
    },
    {
     "name": "stdout",
     "output_type": "stream",
     "text": [
      "8\n"
     ]
    }
   ],
   "source": [
    "#W2A5\n",
    "line = input()\n",
    "a, b = map(int, line.split())\n",
    "print(a ** b)"
   ]
  },
  {
   "cell_type": "code",
   "execution_count": 6,
   "id": "e615462e-872e-4f52-8127-e47759683085",
   "metadata": {},
   "outputs": [
    {
     "name": "stdin",
     "output_type": "stream",
     "text": [
      " a\n"
     ]
    },
    {
     "name": "stdout",
     "output_type": "stream",
     "text": [
      "97\n",
      "A\n"
     ]
    }
   ],
   "source": [
    "#W2A6\n",
    "char = input()\n",
    "print(ord(char))\n",
    "uppercase = ord(char) - 32\n",
    "print(chr(uppercase))"
   ]
  },
  {
   "cell_type": "code",
   "execution_count": 7,
   "id": "3dd7ba85-faf9-4014-9ddb-8d8816b12a8a",
   "metadata": {},
   "outputs": [
    {
     "name": "stdout",
     "output_type": "stream",
     "text": [
      "512 512\n"
     ]
    }
   ],
   "source": [
    "#W2A7\n",
    "A = ((13**2) * 3) + 5\n",
    "B = 13**2*3 + 5\n",
    "print(A, B)"
   ]
  },
  {
   "cell_type": "code",
   "execution_count": 8,
   "id": "fdf8d37c-4f65-4e30-9a77-17b6465ed88c",
   "metadata": {},
   "outputs": [
    {
     "name": "stdin",
     "output_type": "stream",
     "text": [
      " 37\n"
     ]
    },
    {
     "name": "stdout",
     "output_type": "stream",
     "text": [
      "98.60\n"
     ]
    }
   ],
   "source": [
    "#W2A8\n",
    "C = int(input())\n",
    "F = (9/5) * C + 32\n",
    "print(f'{F:.2f}')"
   ]
  },
  {
   "cell_type": "code",
   "execution_count": 9,
   "id": "9b5763b5-a865-4705-b2f8-29bc94cf0f32",
   "metadata": {},
   "outputs": [
    {
     "name": "stdin",
     "output_type": "stream",
     "text": [
      " 36\n"
     ]
    },
    {
     "name": "stdout",
     "output_type": "stream",
     "text": [
      "65.78\n"
     ]
    }
   ],
   "source": [
    "#W2A9\n",
    "x = int(input())\n",
    "price = x + 10\n",
    "print (f'{price + price * 0.3 + (price + price * 0.3) * 0.1:.2f}')"
   ]
  },
  {
   "cell_type": "code",
   "execution_count": 10,
   "id": "9445936b-0c1d-43d9-b260-68a55aa70106",
   "metadata": {},
   "outputs": [
    {
     "name": "stdin",
     "output_type": "stream",
     "text": [
      " Đạt Đăng Đức\n"
     ]
    },
    {
     "name": "stdout",
     "output_type": "stream",
     "text": [
      "Hi Đức, Đăng and Đạt."
     ]
    }
   ],
   "source": [
    "#W2A10\n",
    "a, b, c = input().split()\n",
    "print (\"Hi \", c, \", \", b, \" and \", a, sep = '', end = '.')"
   ]
  },
  {
   "cell_type": "code",
   "execution_count": 11,
   "id": "e8eabfc2-74a4-4a0b-88a7-10cdba364c6b",
   "metadata": {},
   "outputs": [
    {
     "name": "stdin",
     "output_type": "stream",
     "text": [
      " 2 30\n"
     ]
    },
    {
     "name": "stdout",
     "output_type": "stream",
     "text": [
      "9000\n"
     ]
    }
   ],
   "source": [
    "#W2A11\n",
    "h, m = map(int, input().split())\n",
    "print(h * 3600 + m * 60)"
   ]
  },
  {
   "cell_type": "code",
   "execution_count": 12,
   "id": "2e35f3a4-ea5d-4165-b509-fbb28d6440f3",
   "metadata": {},
   "outputs": [
    {
     "name": "stdin",
     "output_type": "stream",
     "text": [
      " 1\n"
     ]
    },
    {
     "name": "stdout",
     "output_type": "stream",
     "text": [
      "6\n"
     ]
    }
   ],
   "source": [
    "#W2A12\n",
    "n = int(input())\n",
    "print (n * n * 6)"
   ]
  },
  {
   "cell_type": "code",
   "execution_count": 13,
   "id": "436b85e0-8ae0-4d6f-bd40-bdd22796f37b",
   "metadata": {},
   "outputs": [
    {
     "name": "stdin",
     "output_type": "stream",
     "text": [
      "  36 36\n"
     ]
    },
    {
     "name": "stdout",
     "output_type": "stream",
     "text": [
      "6\n"
     ]
    }
   ],
   "source": [
    "#W2A13\n",
    "a, b = map(int, input().split())\n",
    "print (a * b % 10)"
   ]
  },
  {
   "cell_type": "code",
   "execution_count": 15,
   "id": "351bf592-1392-46ea-a290-48b96d458da8",
   "metadata": {},
   "outputs": [
    {
     "name": "stdin",
     "output_type": "stream",
     "text": [
      " 6 3\n"
     ]
    },
    {
     "name": "stdout",
     "output_type": "stream",
     "text": [
      "3 6\n"
     ]
    }
   ],
   "source": [
    "#W2A14\n",
    "a, b = map(int, input().split())\n",
    "a, b = b, a\n",
    "print(a, b)"
   ]
  },
  {
   "cell_type": "code",
   "execution_count": 16,
   "id": "fccee094-afac-4f89-b383-306f33418d16",
   "metadata": {},
   "outputs": [
    {
     "name": "stdin",
     "output_type": "stream",
     "text": [
      " 5\n"
     ]
    },
    {
     "name": "stdout",
     "output_type": "stream",
     "text": [
      "121\n"
     ]
    }
   ],
   "source": [
    "#W2A15\n",
    "n = int(input())\n",
    "print(6 * n * (n - 1) + 1)"
   ]
  },
  {
   "cell_type": "code",
   "execution_count": 18,
   "id": "22469dbf-ad54-4e40-89a7-6258a01f399c",
   "metadata": {},
   "outputs": [
    {
     "name": "stdout",
     "output_type": "stream",
     "text": [
      "Spring\n",
      "Summer\n",
      "Autumn\n",
      "Winter\n",
      "Spring\n",
      "Summer\n",
      "Autumn\n",
      "Winter\n"
     ]
    }
   ],
   "source": [
    "#W2A16\n",
    "print('''Spring\n",
    "Summer\n",
    "Autumn\n",
    "Winter''')\n",
    "\n",
    "print(\"Spring\\nSummer\\nAutumn\\nWinter\")"
   ]
  },
  {
   "cell_type": "code",
   "execution_count": 19,
   "id": "3e1eabaf-b892-4d82-a892-3ab24a99f4a3",
   "metadata": {},
   "outputs": [
    {
     "name": "stdout",
     "output_type": "stream",
     "text": [
      "  *\n",
      " ***\n",
      "*****\n"
     ]
    }
   ],
   "source": [
    "#W2A17\n",
    "print(\"  *\")\n",
    "print(\" ***\")\n",
    "print(\"*****\")"
   ]
  },
  {
   "cell_type": "code",
   "execution_count": 20,
   "id": "282c3ee3-b2bb-4a78-9132-9ce0008a121c",
   "metadata": {},
   "outputs": [
    {
     "name": "stdout",
     "output_type": "stream",
     "text": [
      "### #  ### ###\n",
      " #  # #  #   #\n",
      " #  # #  #   #\n",
      " #  # #  #   # \n",
      " #  #    #   #  \n"
     ]
    }
   ],
   "source": [
    "#W2A18\n",
    "print(\"### #  ### ###\")\n",
    "print(\" #  # #  #   #\")\n",
    "print(\" #  # #  #   #\")\n",
    "print(\" #  # #  #   # \")\n",
    "print(\" #  #    #   #  \")"
   ]
  },
  {
   "cell_type": "code",
   "execution_count": 21,
   "id": "d5f13bee-cce3-4975-9d9a-5ee4e0945986",
   "metadata": {},
   "outputs": [
    {
     "name": "stdout",
     "output_type": "stream",
     "text": [
      "Monday\n",
      "Tuesday\n",
      "Wednesday\n",
      "Thursday\n",
      "Friday\n",
      "Saturday\n",
      "Sunday\n"
     ]
    }
   ],
   "source": [
    "#W2A19\n",
    "print(\"Monday\\nTuesday\\nWednesday\\nThursday\\nFriday\\nSaturday\\nSunday\")"
   ]
  },
  {
   "cell_type": "code",
   "execution_count": 22,
   "id": "deb7fd7e-9613-4ad0-aa7d-9017617d883e",
   "metadata": {},
   "outputs": [
    {
     "name": "stdout",
     "output_type": "stream",
     "text": [
      "January\n",
      "February\n",
      "March\n",
      "April\n",
      "May\n",
      "June\n",
      "July\n",
      "August\n",
      "September\n",
      "October\n",
      "November\n",
      "December\n"
     ]
    }
   ],
   "source": [
    "#W2A20\n",
    "print(\"January\\nFebruary\\nMarch\\nApril\\nMay\\nJune\\nJuly\\nAugust\\nSeptember\\nOctober\\nNovember\\nDecember\")"
   ]
  },
  {
   "cell_type": "code",
   "execution_count": 23,
   "id": "bf9b990b-6d57-4b3e-a962-5d21976e74f1",
   "metadata": {},
   "outputs": [
    {
     "name": "stdout",
     "output_type": "stream",
     "text": [
      "Hello, world\n",
      "Hello, world\n",
      "Hello, world\n",
      "Hello, world\n",
      "Hello, world\n",
      "Hello, world\n",
      "Hello, world\n",
      "Hello, world\n",
      "Hello, world\n",
      "Hello, world\n"
     ]
    }
   ],
   "source": [
    "#W2A20\n",
    "for i in range(10):\n",
    "    print(\"Hello, world\")"
   ]
  }
 ],
 "metadata": {
  "kernelspec": {
   "display_name": "Python 3 (ipykernel)",
   "language": "python",
   "name": "python3"
  },
  "language_info": {
   "codemirror_mode": {
    "name": "ipython",
    "version": 3
   },
   "file_extension": ".py",
   "mimetype": "text/x-python",
   "name": "python",
   "nbconvert_exporter": "python",
   "pygments_lexer": "ipython3",
   "version": "3.13.7"
  }
 },
 "nbformat": 4,
 "nbformat_minor": 5
}
