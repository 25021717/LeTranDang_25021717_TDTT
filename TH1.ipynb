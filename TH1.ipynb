{
 "cells": [
  {
   "cell_type": "code",
   "execution_count": 23,
   "id": "c2aee118-3ea5-4400-a7be-9b93b50bbf18",
   "metadata": {},
   "outputs": [
    {
     "name": "stdout",
     "output_type": "stream",
     "text": [
      "2\n"
     ]
    }
   ],
   "source": [
    "#W1A1\n",
    "a = 7   #gán giá trị 7 cho biến a\n",
    "b = 5  #gán giá trị 5 cho biến b\n",
    "c = a - b #Lấy giá trị của a trừ giá trị của b → 7 - 5 = 2, rồi gán kết quả cho biến c.\n",
    "print(c) #n ra màn hình giá trị của c, tức là 2."
   ]
  },
  {
   "cell_type": "code",
   "execution_count": 24,
   "id": "3ed67853-5c99-499a-a246-9c30c3ed3b5e",
   "metadata": {},
   "outputs": [
    {
     "name": "stdout",
     "output_type": "stream",
     "text": [
      "Thành phố: Hà Nội Năm: 2025\n"
     ]
    }
   ],
   "source": [
    "#W1A2\n",
    "city = \"Hà Nội\"  #Tạo biến city và gán cho nó chuỗi \"Hà Nội\".\n",
    "year = 2025  #Tạo biến year và gán cho nó số nguyên 2025.\n",
    "print(\"Thành phố:\", city, \"Năm:\", year)  #Dùng hàm print() để in ra bốn thành phần: chuỗi \"Thành phố:\", giá trị của city, chuỗi \"Năm:\", và giá trị của year."
   ]
  },
  {
   "cell_type": "code",
   "execution_count": 25,
   "id": "413c17fa-1da2-4e6e-9ea3-b7e9f1a485b6",
   "metadata": {},
   "outputs": [
    {
     "name": "stdout",
     "output_type": "stream",
     "text": [
      "1\n",
      "3\n",
      "6\n",
      "10\n"
     ]
    }
   ],
   "source": [
    "#W1A3\n",
    "n = 4  #Gán số 4 cho biến n.\n",
    "t = 0  #Khởi tạo biến t bằng 0\n",
    "for i in range (1, n+1):  #Vòng lặp chạy qua tất cả các số từ 1 đến 4 (bao gồm 4)\n",
    " t += i #Mỗi lần lặp, cộng giá trị i vào t.\n",
    " print(t)  #Sau khi vòng lặp kết thúc, in ra giá trị của t. "
   ]
  },
  {
   "cell_type": "code",
   "execution_count": 26,
   "id": "de315644-9e0c-43d4-a0c4-727cf15f70e3",
   "metadata": {},
   "outputs": [
    {
     "name": "stdout",
     "output_type": "stream",
     "text": [
      "1 là số lẻ\n",
      "2 là số chẵn\n",
      "3 là số lẻ\n",
      "4 là số chẵn\n"
     ]
    }
   ],
   "source": [
    "#1A4\n",
    "numbers = [1, 2, 3, 4]   # Tạo danh sách gồm bốn số nguyên: 1, 2, 3, 4\n",
    "\n",
    "for x in numbers:        # Lần lượt lấy từng phần tử trong danh sách gán vào biến x\n",
    "    if x % 2 == 0:       # Kiểm tra: x chia hết cho 2 không?\n",
    "        print(x, \"là số chẵn\")  # Nếu đúng, in ra rằng x là số chẵn\n",
    "    else:\n",
    "        print(x, \"là số lẻ\")    # Nếu sai, in ra rằng x là số lẻ"
   ]
  },
  {
   "cell_type": "code",
   "execution_count": 27,
   "id": "e053084f-1093-4fa1-ac5f-2372059e5e9b",
   "metadata": {},
   "outputs": [
    {
     "name": "stdout",
     "output_type": "stream",
     "text": [
      "Số phần tử trong danh sách là: 4\n"
     ]
    }
   ],
   "source": [
    "#W1A5\n",
    "animals = [\"cat\", \"dog\", \"cat\", \"bird\"]  # Tạo danh sách gồm 4 phần tử\n",
    "count = 0                                # Khởi tạo biến đếm bằng 0\n",
    "\n",
    "for a in animals:        # Duyệt qua từng phần tử trong danh sách\n",
    "    count += 1           # Mỗi lần lặp, cộng 1 vào biến đếm\n",
    "\n",
    "print(\"Số phần tử trong danh sách là:\", count)  # In kết quả sau khi vòng lặp kết thúc"
   ]
  },
  {
   "cell_type": "code",
   "execution_count": 28,
   "id": "caabd7be-a70a-4726-b0d5-ea4c840b5439",
   "metadata": {},
   "outputs": [
    {
     "name": "stdout",
     "output_type": "stream",
     "text": [
      "=== AI Prediction System ===\n",
      "1) Sentiment analysis\n",
      "2) Weather forecast\n",
      "3) Exit\n"
     ]
    },
    {
     "name": "stdin",
     "output_type": "stream",
     "text": [
      "Please choose an option:  3\n"
     ]
    }
   ],
   "source": [
    "#W1A6\n",
    "print(\"=== AI Prediction System ===\")    #in ra tiêu đề \n",
    "print(\"1) Sentiment analysis\")\n",
    "print(\"2) Weather forecast\")\n",
    "print(\"3) Exit\")\n",
    "#in ra 3 dòng lựa chọn\n",
    "choice = input(\"Please choose an option: \")\n",
    "#yêu cầu người dùng nhập lựa chọn"
   ]
  },
  {
   "cell_type": "code",
   "execution_count": 31,
   "id": "82035716-34e9-4587-b454-524995818446",
   "metadata": {},
   "outputs": [
    {
     "name": "stdin",
     "output_type": "stream",
     "text": [
      "Nhập số: 3\n"
     ]
    },
    {
     "name": "stdout",
     "output_type": "stream",
     "text": [
      "3 là số lẻ\n"
     ]
    }
   ],
   "source": [
    "#W1A7\n",
    "# Khởi tạo một danh sách (list) các số nguyên\n",
    "numb = int(input(\"Nhập số:\"))\n",
    "# Bắt đầu vòng lặp. Vòng lặp sẽ duyệt qua từng phần tử trong danh sách 'numbers'.\n",
    "# Mỗi phần tử sẽ được gán cho biến 'x' trong mỗi lần lặp..\n",
    "if numb % 2 == 0:\n",
    "    # Nếu là số chẵn, in ra thông báo tương ứng.\n",
    "    print(numb, \"là số chẵn\")\n",
    "else:\n",
    "    # Nếu không phải số chẵn (là số lẻ), in ra thông báo tương ứng.\n",
    "    print(numb, \"là số lẻ\")"
   ]
  },
  {
   "cell_type": "code",
   "execution_count": 32,
   "id": "56e6a66c-cbe2-4748-adec-bc12efcec117",
   "metadata": {},
   "outputs": [
    {
     "name": "stdout",
     "output_type": "stream",
     "text": [
      "AI đang học lần 1\n",
      "AI đang học lần 2\n",
      "AI đang học lần 3\n",
      "Huấn luyện xong!\n"
     ]
    }
   ],
   "source": [
    "#W1A8\n",
    "for i in range(3):                     # Tạo một vòng lặp chạy 3 lần với giá trị i lần lượt là 0, 1, 2.\n",
    "    print(\"AI đang học lần\", i + 1)    # Mỗi lần lặp, in ra thông báo “AI đang học lần …”, với số lần bằng i + 1.\n",
    "print(\"Huấn luyện xong!\")              # Sau khi vòng lặp kết thúc, in ra thông báo “Huấn luyện xong!”."
   ]
  },
  {
   "cell_type": "code",
   "execution_count": 33,
   "id": "c68f6bb8-8a4d-4aa5-943f-602650ec27a4",
   "metadata": {},
   "outputs": [
    {
     "name": "stdout",
     "output_type": "stream",
     "text": [
      "Dự đoán con vật: cat\n",
      "Dự đoán con vật: dog\n",
      "Dự đoán con vật: fish\n"
     ]
    }
   ],
   "source": [
    "#W1A9\n",
    "for x in [\"cat\", \"dog\", \"fish\"]:   #Tạo vòng lặp, lần lượt lấy các giá trị \"cat\", \"dog\", \"fish\" gán vào biến x.\n",
    " print(\"Dự đoán con vật:\", x)   #Mỗi lần lặp, in ra chuỗi \"Dự đoán con vật:\" kèm theo giá trị hiện tại của x."
   ]
  },
  {
   "cell_type": "code",
   "execution_count": 34,
   "id": "f6d67020-3977-4382-911a-8b54ded5b989",
   "metadata": {},
   "outputs": [
    {
     "name": "stdout",
     "output_type": "stream",
     "text": [
      "=== AI Prediction System ===\n",
      "1) Sentiment analysis\n",
      "2) Weather forecast\n",
      "3) Exit\n",
      "Please choose an option:\n"
     ]
    }
   ],
   "source": [
    "#W1A10\n",
    "print(\"=== AI Prediction System ===\")\n",
    "print(\"1) Sentiment analysis\")\n",
    "print(\"2) Weather forecast\")\n",
    "print(\"3) Exit\")\n",
    "print(\"Please choose an option:\")"
   ]
  }
 ],
 "metadata": {
  "kernelspec": {
   "display_name": "Python 3 (ipykernel)",
   "language": "python",
   "name": "python3"
  },
  "language_info": {
   "codemirror_mode": {
    "name": "ipython",
    "version": 3
   },
   "file_extension": ".py",
   "mimetype": "text/x-python",
   "name": "python",
   "nbconvert_exporter": "python",
   "pygments_lexer": "ipython3",
   "version": "3.13.7"
  }
 },
 "nbformat": 4,
 "nbformat_minor": 5
}
