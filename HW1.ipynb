{
 "cells": [
  {
   "cell_type": "code",
   "execution_count": 1,
   "id": "b7256610-f14f-480c-bc4f-c6630a8215b1",
   "metadata": {},
   "outputs": [
    {
     "name": "stdin",
     "output_type": "stream",
     "text": [
      " 36\n"
     ]
    },
    {
     "name": "stdout",
     "output_type": "stream",
     "text": [
      "72\n"
     ]
    }
   ],
   "source": [
    "#Bài 1\n",
    "n = int(input())\n",
    "print(n*2)"
   ]
  },
  {
   "cell_type": "code",
   "execution_count": 2,
   "id": "6f59061d-da4a-4564-8922-77ba3964003a",
   "metadata": {},
   "outputs": [
    {
     "name": "stdin",
     "output_type": "stream",
     "text": [
      "Nhập chiều rộng:  4\n",
      "Nhập chiều dài:  6\n"
     ]
    },
    {
     "name": "stdout",
     "output_type": "stream",
     "text": [
      "Diện tích trồng cây: 11.44\n"
     ]
    }
   ],
   "source": [
    "#Bài 2\n",
    "pi = 3.14\n",
    "a = float(input(\"Nhập chiều rộng: \"))\n",
    "b = float(input(\"Nhập chiều dài: \"))\n",
    "s_kvc = (a/2) ** 2 * pi\n",
    "s_tc = a * b - s_kvc\n",
    "print(\"Diện tích trồng cây:\", round(s_tc, 2))"
   ]
  },
  {
   "cell_type": "code",
   "execution_count": 8,
   "id": "9287da01-b63b-4842-9c96-e7868ca111e9",
   "metadata": {},
   "outputs": [
    {
     "name": "stdin",
     "output_type": "stream",
     "text": [
      "Nhập kí tự: C\n"
     ]
    },
    {
     "name": "stdout",
     "output_type": "stream",
     "text": [
      "c\n"
     ]
    }
   ],
   "source": [
    "#Bài 3\n",
    "x = input(\"Nhập kí tự:\")\n",
    "\n",
    "if len(x) != 1:\n",
    "    print(f\"Lỗi, {x} không phải kí tự\")\n",
    "else:\n",
    "    if x.isupper():\n",
    "        print(x.lower())\n",
    "    else:\n",
    "        print(x.upper())"
   ]
  },
  {
   "cell_type": "code",
   "execution_count": 9,
   "id": "6068230c-6bfc-4070-a3d2-7034c82e6c63",
   "metadata": {},
   "outputs": [
    {
     "name": "stdin",
     "output_type": "stream",
     "text": [
      "Nhập kí tự:  3\n"
     ]
    },
    {
     "name": "stdout",
     "output_type": "stream",
     "text": [
      "3 không phải là kí tự alphabet\n"
     ]
    }
   ],
   "source": [
    "#Bài 4\n",
    "x = input(\"Nhập kí tự: \")\n",
    "\n",
    "if len(x) != 1:\n",
    "    print(f\"Lỗi, {x} không phải kí tự\")\n",
    "else:\n",
    "    if x.isalpha():\n",
    "        print(f\"{x} là kí tự alphabet\")\n",
    "    else:\n",
    "        print(f\"{x} không phải là kí tự alphabet\")"
   ]
  },
  {
   "cell_type": "code",
   "execution_count": 10,
   "id": "57ae316e-504b-4aa3-902a-d5577905b3f3",
   "metadata": {},
   "outputs": [
    {
     "name": "stdin",
     "output_type": "stream",
     "text": [
      "Nhập một chữ cái hoa:  E\n"
     ]
    },
    {
     "name": "stdout",
     "output_type": "stream",
     "text": [
      "Ký tự thường liền trước: d\n"
     ]
    }
   ],
   "source": [
    "#Bài 5\n",
    "x = input(\"Nhập một chữ cái hoa: \")\n",
    "\n",
    "if len(x) == 1 and x.isupper():\n",
    "    if x == 'A':\n",
    "        print(\"Trường hợp đặc biệt: không có chữ cái thường liền trước 'a'\")\n",
    "    else:\n",
    "        print(\"Ký tự thường liền trước:\", chr(ord(x.lower()) - 1))\n",
    "else:\n",
    "    print(\"Bạn phải nhập đúng 1 chữ cái hoa.\")"
   ]
  },
  {
   "cell_type": "code",
   "execution_count": 14,
   "id": "89d0aa77-b2d8-4356-8301-237bd3a0238d",
   "metadata": {},
   "outputs": [
    {
     "name": "stdin",
     "output_type": "stream",
     "text": [
      "Nhập 3 số a,b,c:  4 5 6\n"
     ]
    },
    {
     "name": "stdout",
     "output_type": "stream",
     "text": [
      "Diện tích tam giác: 9.9\n"
     ]
    }
   ],
   "source": [
    "#Bài 6\n",
    "a,b,c = map(float, input(\"Nhập 3 số a,b,c: \").split())\n",
    "if a != 0 and b != 0 and c != 0 and a + b > c and a + c > b and b + c > a:\n",
    "    p = (a + b + c) / 2\n",
    "    area = (p * (p - a) * (p - b) * (p - c)) ** 0.5\n",
    "    print(f\"Diện tích tam giác: {area:.1f}\")\n",
    "else:\n",
    "    print(\"Khong phai 3 canh cua tam giac\")"
   ]
  },
  {
   "cell_type": "code",
   "execution_count": 19,
   "id": "415ec003-425e-4dac-9506-fbc282492e94",
   "metadata": {},
   "outputs": [
    {
     "name": "stdin",
     "output_type": "stream",
     "text": [
      "Nhập chuỗi (>=20 ký tự thường):  abcdefghijabcdefghij\n"
     ]
    },
    {
     "name": "stdout",
     "output_type": "stream",
     "text": [
      "Ký tự thứ 5: e\n",
      "Ký tự thứ 9: i\n"
     ]
    }
   ],
   "source": [
    "#Bài 7\n",
    "s = input(\"Nhập chuỗi (>=20 ký tự thường): \")\n",
    "\n",
    "if len(s) >= 20:\n",
    "    print(\"Ký tự thứ 5:\", s[4])\n",
    "    print(\"Ký tự thứ 9:\", s[8])"
   ]
  },
  {
   "cell_type": "code",
   "execution_count": 21,
   "id": "3647b834-055f-4dbe-b157-a6b4a4359d2f",
   "metadata": {},
   "outputs": [
    {
     "name": "stdin",
     "output_type": "stream",
     "text": [
      "Ten chu ho:  Le Dang\n",
      "Chi so thang truoc:  200\n",
      "Chi so thang nay:  236\n"
     ]
    },
    {
     "name": "stdout",
     "output_type": "stream",
     "text": [
      "Ho va ten: Le Dang\n",
      "Tien phai tra la: 77138\n"
     ]
    }
   ],
   "source": [
    "#Bài 8\n",
    "name = input(\"Ten chu ho: \")\n",
    "prev = int(input(\"Chi so thang truoc: \"))\n",
    "curr = int(input(\"Chi so thang nay: \"))\n",
    "\n",
    "kwh = curr - prev\n",
    "tien = 0\n",
    "\n",
    "if kwh > 400:\n",
    "    tien += (kwh - 400) * 3460\n",
    "    kwh = 400\n",
    "if kwh > 300:\n",
    "    tien += (kwh - 300) * 3350\n",
    "    kwh = 300\n",
    "if kwh > 200:\n",
    "    tien += (kwh - 200) * 2998\n",
    "    kwh = 200\n",
    "if kwh > 100:\n",
    "    tien += (kwh - 100) * 2380\n",
    "    kwh = 100\n",
    "if kwh > 50:\n",
    "    tien += (kwh - 50) * 2050\n",
    "    kwh = 50\n",
    "if kwh > 0:\n",
    "    tien += kwh * 1984\n",
    "    \n",
    "tien = int(round(tien * 1.08, 0))\n",
    "\n",
    "print(\"Ho va ten:\", name)\n",
    "print(\"Tien phai tra la:\", tien)"
   ]
  },
  {
   "cell_type": "code",
   "execution_count": null,
   "id": "893591af-a3ce-4b8e-a5c5-a1e0a95919e5",
   "metadata": {},
   "outputs": [],
   "source": []
  }
 ],
 "metadata": {
  "kernelspec": {
   "display_name": "Python 3 (ipykernel)",
   "language": "python",
   "name": "python3"
  },
  "language_info": {
   "codemirror_mode": {
    "name": "ipython",
    "version": 3
   },
   "file_extension": ".py",
   "mimetype": "text/x-python",
   "name": "python",
   "nbconvert_exporter": "python",
   "pygments_lexer": "ipython3",
   "version": "3.13.7"
  }
 },
 "nbformat": 4,
 "nbformat_minor": 5
}
