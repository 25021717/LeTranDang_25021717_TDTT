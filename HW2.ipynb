{
 "cells": [
  {
   "cell_type": "code",
   "execution_count": 1,
   "id": "6dbf102b-44f4-4849-af36-100708af8cab",
   "metadata": {},
   "outputs": [
    {
     "name": "stdin",
     "output_type": "stream",
     "text": [
      "Nhập chiều dài:  3\n",
      "Nhập chiều rộng:  4\n"
     ]
    },
    {
     "name": "stdout",
     "output_type": "stream",
     "text": [
      "Chu vi hình chữ nhật là: 14.0\n",
      "Diện tích hình chữ nhật là: 12.0\n"
     ]
    }
   ],
   "source": [
    "#Bài 1\n",
    "cd = float(input(\"Nhập chiều dài: \"))\n",
    "cr = float(input(\"Nhập chiều rộng: \"))\n",
    "\n",
    "cv = (cd + cr) * 2\n",
    "dt = cd * cr\n",
    "\n",
    "print(f\"Chu vi hình chữ nhật là: {cv}\")\n",
    "print(f\"Diện tích hình chữ nhật là: {dt}\")"
   ]
  },
  {
   "cell_type": "code",
   "execution_count": 4,
   "id": "94140dd6-9d98-4abe-803e-cde9e31b4be5",
   "metadata": {},
   "outputs": [
    {
     "name": "stdin",
     "output_type": "stream",
     "text": [
      "Nhập bán kính:  4\n"
     ]
    },
    {
     "name": "stdout",
     "output_type": "stream",
     "text": [
      "Chu vi hình tròn là: 25.13\n",
      "Diện tích hình tròn là: 50.27\n"
     ]
    }
   ],
   "source": [
    "import math\n",
    "r = float(input(\"Nhập bán kính: \"))\n",
    "\n",
    "cv = 2 * r * math.pi\n",
    "dt = r ** 2 * math.pi\n",
    "\n",
    "print(f\"Chu vi hình tròn là: {cv:.2f}\")\n",
    "print(f\"Diện tích hình tròn là: {dt:.2f}\")"
   ]
  },
  {
   "cell_type": "code",
   "execution_count": 3,
   "id": "7f0adec6-fda3-4011-8907-fbeffb53dd29",
   "metadata": {},
   "outputs": [
    {
     "name": "stdin",
     "output_type": "stream",
     "text": [
      "Nhập 3 cạnh của tam giác:  3 3 3\n"
     ]
    },
    {
     "name": "stdout",
     "output_type": "stream",
     "text": [
      "Đây là tam giác đều.\n",
      "Chu vi của tam giác là: 9.00\n",
      "Diện tích của tam giác là: 3.90\n"
     ]
    }
   ],
   "source": [
    "#Bài 3\n",
    "import math\n",
    "\n",
    "a,b,c = map(float, input(\"Nhập 3 cạnh của tam giác: \").split())\n",
    "\n",
    "if min(a,b,c) > 0 and a + b > c and a + c > b and b + c > a:\n",
    "        if a == b and b == c:\n",
    "            print(\"Đây là tam giác đều.\")\n",
    "        elif a**2 + b**2 == c**2 or a**2 + c**2 == b**2 or b**2 + c**2 == a**2:\n",
    "            print(\"Đây là tam giác vuông.\")\n",
    "        elif a == b or a == c or b == c:\n",
    "            print(\"Đây là tam giác cân.\")\n",
    "        else:\n",
    "            print(\"Đây là tam giác thường\")\n",
    "        \n",
    "        cv = a + b + c\n",
    "        p = cv / 2\n",
    "        dt = math.sqrt(p * (p - a) * (p - b) * (p - c))\n",
    "        \n",
    "        print(f\"Chu vi của tam giác là: {cv:.2f}\")\n",
    "        print(f\"Diện tích của tam giác là: {dt:.2f}\")\n",
    "else:\n",
    "    print(\"Không là ba cạnh của một tam giác.\")"
   ]
  },
  {
   "cell_type": "code",
   "execution_count": 9,
   "id": "3032a969-0752-4ac3-aeac-49a7e71f2e67",
   "metadata": {},
   "outputs": [
    {
     "name": "stdin",
     "output_type": "stream",
     "text": [
      "Nhập a và b:  2 3\n"
     ]
    },
    {
     "name": "stdout",
     "output_type": "stream",
     "text": [
      "Phương trình có nghiệm duy nhất x = -1.5\n"
     ]
    }
   ],
   "source": [
    "#Bài 4\n",
    "a,b = map(float, input(\"Nhập a và b: \").split())\n",
    "\n",
    "if a == 0:\n",
    "    if b == 0:\n",
    "        print(\"Phương trình có vô số nghiệm.\")\n",
    "    else:\n",
    "        print(\"Phương trình vô nghiệm.\")\n",
    "else:\n",
    "    x = -b / a\n",
    "    print(f\"Phương trình có nghiệm duy nhất x = {x}\")"
   ]
  },
  {
   "cell_type": "code",
   "execution_count": 1,
   "id": "22010a53-d1da-4f72-8c75-9b50ff162a08",
   "metadata": {},
   "outputs": [
    {
     "name": "stdin",
     "output_type": "stream",
     "text": [
      "Nhập 3 hệ số lần lươt: 1 4 4\n"
     ]
    },
    {
     "name": "stdout",
     "output_type": "stream",
     "text": [
      "Phương trình có nghiệm kép x1 = x2 = -2.0\n"
     ]
    }
   ],
   "source": [
    "#Bài 5\n",
    "import math\n",
    "\n",
    "a,b,c = map(float, input(\"Nhập 3 hệ số lần lươt:\").split())\n",
    "if a == 0:\n",
    "    if b == 0:\n",
    "        if c == 0:\n",
    "            print(\"Phương trình có vô số nghiệm.\")\n",
    "        else:\n",
    "            print(\"Phương trình vô nghiệm.\")\n",
    "    else:\n",
    "        x = -c / b\n",
    "        print(f\"Phương trình bậc nhất, có nghiệm duy nhất x = {x}\")\n",
    "else:\n",
    "    delta = b**2 - 4*a*c\n",
    "\n",
    "    if delta > 0:\n",
    "        x1 = (-b + math.sqrt(delta)) / (2*a)\n",
    "        x2 = (-b - math.sqrt(delta)) / (2*a)\n",
    "        print(\"Phương trình có 2 nghiệm phân biệt:\")\n",
    "        print(f\"x1 = {x1}\")\n",
    "        print(f\"x2 = {x2}\")\n",
    "    elif delta == 0:\n",
    "        x = -b / (2*a)\n",
    "        print(f\"Phương trình có nghiệm kép x1 = x2 = {x}\")\n",
    "    else:\n",
    "        print(\"Phương trình vô nghiệm thực.\")"
   ]
  },
  {
   "cell_type": "code",
   "execution_count": 1,
   "id": "336c0047-f18c-4e49-817f-66e3b58f6b34",
   "metadata": {},
   "outputs": [
    {
     "name": "stdin",
     "output_type": "stream",
     "text": [
      "Nhập 4 số a,b,c,d:  1 3 2 5\n"
     ]
    },
    {
     "name": "stdout",
     "output_type": "stream",
     "text": [
      "Giá trị lớn nhất (tự viết): 5.0\n",
      "Giá trị lớn nhất (dùng hàm max): 5.0\n"
     ]
    }
   ],
   "source": [
    "#Bài 6\n",
    "a, b, c, d = map(float, input(\"Nhập 4 số a,b,c,d: \").split())\n",
    "\n",
    "max_val = a\n",
    "\n",
    "if b > max_val:\n",
    "    max_val = b\n",
    "if c > max_val:\n",
    "    max_val = c\n",
    "if d > max_val:\n",
    "    max_val = d\n",
    "\n",
    "print(f\"Giá trị lớn nhất (tự viết): {max_val}\")\n",
    "print(f\"Giá trị lớn nhất (dùng hàm max): {max(a, b, c, d)}\")"
   ]
  },
  {
   "cell_type": "code",
   "execution_count": 2,
   "id": "aabc5503-2034-4f7b-8fab-06d310495570",
   "metadata": {},
   "outputs": [
    {
     "name": "stdin",
     "output_type": "stream",
     "text": [
      "Nhập 4 số a,b,c,d:  2 3 1 2\n"
     ]
    },
    {
     "name": "stdout",
     "output_type": "stream",
     "text": [
      "Giá trị nhỏ nhất (tự viết): 1.0\n",
      "Giá trị nhỏ nhất (dùng hàm min): 1.0\n"
     ]
    }
   ],
   "source": [
    "#Bài 7\n",
    "a, b, c, d = map(float, input(\"Nhập 4 số a,b,c,d: \").split())\n",
    "\n",
    "min_val = a\n",
    "\n",
    "if b < min_val:\n",
    "    min_val = b\n",
    "if c < min_val:\n",
    "    min_val = c\n",
    "if d < min_val:\n",
    "    min_val = d\n",
    "\n",
    "print(f\"Giá trị nhỏ nhất (tự viết): {min_val}\")\n",
    "print(f\"Giá trị nhỏ nhất (dùng hàm min): {min(a, b, c, d)}\")"
   ]
  },
  {
   "cell_type": "code",
   "execution_count": null,
   "id": "f5edcea0-2c70-4ad8-9b22-4531cfb41e47",
   "metadata": {},
   "outputs": [],
   "source": [
    "#Bài 8\n"
   ]
  },
  {
   "cell_type": "code",
   "execution_count": 1,
   "id": "eb2b918d-4291-48e7-b636-fadc27278a59",
   "metadata": {},
   "outputs": [
    {
     "name": "stdin",
     "output_type": "stream",
     "text": [
      "Nhập tổng số giây:  1231239\n"
     ]
    },
    {
     "name": "stdout",
     "output_type": "stream",
     "text": [
      "1231239 giây = 342 giờ, 0 phút, 39 giây.\n"
     ]
    }
   ],
   "source": [
    "#Bài 9\n",
    "tong_giay = int(input(\"Nhập tổng số giây: \"))\n",
    "    \n",
    "gio = tong_giay // 3600\n",
    "phut = (tong_giay % 3600) // 60\n",
    "giay = tong_giay % 60\n",
    "    \n",
    "print(f\"{tong_giay} giây = {gio} giờ, {phut} phút, {giay} giây.\")"
   ]
  },
  {
   "cell_type": "code",
   "execution_count": 2,
   "id": "0d509559-ca7d-4973-84b9-a6c3ee536e98",
   "metadata": {},
   "outputs": [
    {
     "name": "stdin",
     "output_type": "stream",
     "text": [
      "Nhập tọa độ x của tâm:  0\n",
      "Nhập tọa độ y của tâm:  0\n",
      "Nhập bán kính:  4\n"
     ]
    },
    {
     "name": "stdout",
     "output_type": "stream",
     "text": [
      "\n",
      "Nhập tọa độ điểm A:\n"
     ]
    },
    {
     "name": "stdin",
     "output_type": "stream",
     "text": [
      "Nhập tọa độ x của điểm A:  0\n",
      "Nhập tọa độ y của điểm A:  4\n"
     ]
    },
    {
     "name": "stdout",
     "output_type": "stream",
     "text": [
      "Điểm A thuộc đường tròn.\n"
     ]
    }
   ],
   "source": [
    "#Bài 10\n",
    "import math\n",
    "\n",
    "x_tam = float(input(\"Nhập tọa độ x của tâm: \"))\n",
    "y_tam = float(input(\"Nhập tọa độ y của tâm: \"))\n",
    "ban_kinh = float(input(\"Nhập bán kính: \"))\n",
    "    \n",
    "print(\"\\nNhập tọa độ điểm A:\")\n",
    "x_diem = float(input(\"Nhập tọa độ x của điểm A: \"))\n",
    "y_diem = float(input(\"Nhập tọa độ y của điểm A: \"))\n",
    "    \n",
    "khoang_cach_binh_phuong = (x_diem - x_tam)**2 + (y_diem - y_tam)**2\n",
    "ban_kinh_binh_phuong = ban_kinh**2\n",
    "    \n",
    "if abs(khoang_cach_binh_phuong - ban_kinh_binh_phuong) < 1e-9:\n",
    "    print(\"Điểm A thuộc đường tròn.\")\n",
    "elif khoang_cach_binh_phuong < ban_kinh_binh_phuong:\n",
    "    print(\"Điểm A nằm bên trong đường tròn.\")\n",
    "else:\n",
    "    print(\"Điểm A nằm bên ngoài đường tròn.\")"
   ]
  },
  {
   "cell_type": "code",
   "execution_count": 3,
   "id": "9df482ff-e9a6-4be9-a7cd-f67bebc16c56",
   "metadata": {},
   "outputs": [
    {
     "name": "stdin",
     "output_type": "stream",
     "text": [
      "Nhập số thực x:  2\n",
      "Nhập số thực y:  3\n"
     ]
    },
    {
     "name": "stdout",
     "output_type": "stream",
     "text": [
      "Sử dụng hàm pow(): 2.0^3.0 = 8.0\n",
      "Sử dụng toán tử **: 2.0^3.0 = 8.0\n"
     ]
    }
   ],
   "source": [
    "#Bài 11\n",
    "x = float(input(\"Nhập số thực x: \"))\n",
    "y = float(input(\"Nhập số thực y: \"))\n",
    "    \n",
    "ket_qua_pow = pow(x, y)\n",
    "ket_qua_toan_tu = x ** y\n",
    "    \n",
    "print(f\"Sử dụng hàm pow(): {x}^{y} = {ket_qua_pow}\")\n",
    "print(f\"Sử dụng toán tử **: {x}^{y} = {ket_qua_toan_tu}\")\n"
   ]
  }
 ],
 "metadata": {
  "kernelspec": {
   "display_name": "Python 3 (ipykernel)",
   "language": "python",
   "name": "python3"
  },
  "language_info": {
   "codemirror_mode": {
    "name": "ipython",
    "version": 3
   },
   "file_extension": ".py",
   "mimetype": "text/x-python",
   "name": "python",
   "nbconvert_exporter": "python",
   "pygments_lexer": "ipython3",
   "version": "3.13.7"
  }
 },
 "nbformat": 4,
 "nbformat_minor": 5
}
