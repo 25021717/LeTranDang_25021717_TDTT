{
 "cells": [
  {
   "cell_type": "code",
   "execution_count": 1,
   "id": "fa2d7514-c7f7-40e3-afbd-31f0f5a337ad",
   "metadata": {},
   "outputs": [
    {
     "name": "stdin",
     "output_type": "stream",
     "text": [
      "a =  4\n",
      "b =  5\n"
     ]
    },
    {
     "name": "stdout",
     "output_type": "stream",
     "text": [
      "Sau khi hoán đổi: a = 5 b = 4\n"
     ]
    }
   ],
   "source": [
    "#3A2\n",
    "a = int(input(\"a = \").strip())\n",
    "b = int(input(\"b = \").strip())\n",
    "\n",
    "a = a ^ b\n",
    "b = a ^ b\n",
    "a = a ^ b\n",
    "print(\"Sau khi hoán đổi: a =\", a, \"b =\", b)"
   ]
  },
  {
   "cell_type": "code",
   "execution_count": 2,
   "id": "dc20f586-2ac0-4850-8e65-a31c474e5afe",
   "metadata": {},
   "outputs": [
    {
     "name": "stdin",
     "output_type": "stream",
     "text": [
      " 8\n"
     ]
    },
    {
     "name": "stdout",
     "output_type": "stream",
     "text": [
      "Yes\n"
     ]
    }
   ],
   "source": [
    "#3A3\n",
    "n = int(input().strip())\n",
    "if n > 0 and (n & (n - 1)) == 0:\n",
    "    print(\"Yes\")\n",
    "else:\n",
    "    print(\"No\")"
   ]
  },
  {
   "cell_type": "code",
   "execution_count": 3,
   "id": "67670987-28c3-4093-a1af-667e64e62f72",
   "metadata": {},
   "outputs": [
    {
     "name": "stdin",
     "output_type": "stream",
     "text": [
      "m =  3\n",
      "n =  2\n"
     ]
    },
    {
     "name": "stdout",
     "output_type": "stream",
     "text": [
      "1\n"
     ]
    }
   ],
   "source": [
    "#3A4\n",
    "m = int(input(\"m = \").strip())\n",
    "n = int(input(\"n = \").strip())\n",
    "\n",
    "if n == 0:\n",
    "    print(\"Lỗi: chia cho 0\")\n",
    "else:\n",
    "    print(m // n)"
   ]
  },
  {
   "cell_type": "code",
   "execution_count": 4,
   "id": "ff04acaf-ac4b-4736-9752-549e97b1baa4",
   "metadata": {},
   "outputs": [
    {
     "name": "stdin",
     "output_type": "stream",
     "text": [
      "m =  3\n",
      "n =  2\n"
     ]
    },
    {
     "name": "stdout",
     "output_type": "stream",
     "text": [
      "2\n"
     ]
    }
   ],
   "source": [
    "#3A5\n",
    "import math \n",
    "m = int(input(\"m = \").strip())\n",
    "n = int(input(\"n = \").strip())\n",
    "if n == 0:\n",
    "    print(\"Lỗi: chia cho 0\")\n",
    "else:\n",
    "    q = math.ceil(m /n)\n",
    "    print(q)"
   ]
  },
  {
   "cell_type": "code",
   "execution_count": 5,
   "id": "d5333bf0-e439-4a25-8357-fde4309cd202",
   "metadata": {},
   "outputs": [
    {
     "name": "stdin",
     "output_type": "stream",
     "text": [
      " 9\n"
     ]
    },
    {
     "name": "stdout",
     "output_type": "stream",
     "text": [
      "Odd\n"
     ]
    }
   ],
   "source": [
    "#3A6\n",
    "x = int(input().strip())\n",
    "print(\"Even\" if x % 2 == 0 else \"Odd\")"
   ]
  },
  {
   "cell_type": "code",
   "execution_count": 6,
   "id": "76754a1d-666c-4e52-a66b-85ce320a0902",
   "metadata": {},
   "outputs": [
    {
     "name": "stdin",
     "output_type": "stream",
     "text": [
      " -3\n",
      " -4\n"
     ]
    },
    {
     "name": "stdout",
     "output_type": "stream",
     "text": [
      "Yes\n"
     ]
    }
   ],
   "source": [
    "#3A7\n",
    "a = int(input().strip())\n",
    "b = int(input().strip())\n",
    "print(\"Yes\" if a < 0 and b < 0 else \"No\")"
   ]
  },
  {
   "cell_type": "code",
   "execution_count": 7,
   "id": "25abf09e-ba7b-4aa9-b708-cba840f4d851",
   "metadata": {},
   "outputs": [
    {
     "name": "stdin",
     "output_type": "stream",
     "text": [
      " sdfdf\n",
      " asfwaerdf5\n"
     ]
    },
    {
     "name": "stdout",
     "output_type": "stream",
     "text": [
      "False\n"
     ]
    }
   ],
   "source": [
    "#3A8\n",
    "a = input().strip()\n",
    "b = input().strip()\n",
    "print(\"True\" if len(a) > len(b) else \"False\")"
   ]
  },
  {
   "cell_type": "code",
   "execution_count": 9,
   "id": "c67fccb3-a33d-4ada-b2bf-6c63a97d663e",
   "metadata": {},
   "outputs": [
    {
     "name": "stdin",
     "output_type": "stream",
     "text": [
      "Nhập 3 số a, b, c:  3 4 5\n"
     ]
    },
    {
     "name": "stdout",
     "output_type": "stream",
     "text": [
      "Yes\n"
     ]
    }
   ],
   "source": [
    "#3A9\n",
    "a,b,c = map(float, input(\"Nhập 3 số a, b, c: \").split())\n",
    "\n",
    "if min(a, b, c) > 0 and a + b >= c and b + c >= a and a + c >= b:\n",
    "    print(\"Yes\")\n",
    "else:\n",
    "    print(\"No\")"
   ]
  },
  {
   "cell_type": "code",
   "execution_count": 11,
   "id": "53e1a214-4b36-4bff-8f87-3cd1c5b9c7a5",
   "metadata": {},
   "outputs": [
    {
     "name": "stdin",
     "output_type": "stream",
     "text": [
      "Nhập 4 số nguyên: 3 4 5 6\n"
     ]
    },
    {
     "name": "stdout",
     "output_type": "stream",
     "text": [
      "6\n"
     ]
    }
   ],
   "source": [
    "#3A10\n",
    "a,b,c,d = map(int, input(\"Nhập 4 số nguyên:\").split())\n",
    "print(max(a,b,c,d))"
   ]
  },
  {
   "cell_type": "code",
   "execution_count": 13,
   "id": "7e0696c2-6aff-478d-aef0-16bf7b0346b7",
   "metadata": {},
   "outputs": [
    {
     "name": "stdin",
     "output_type": "stream",
     "text": [
      "Nhập 3 số a, b, c:  3 4 5\n"
     ]
    },
    {
     "name": "stdout",
     "output_type": "stream",
     "text": [
      "Tam giác thường\n"
     ]
    }
   ],
   "source": [
    "#3A11\n",
    "a,b,c = map(float, input(\"Nhập 3 số a, b, c: \").split())\n",
    "if not (a + b > c and a + c > b and b + c > a):\n",
    "    print(\"Không phải tam giác\")\n",
    "if a == b == c:\n",
    "    print(\"Tam giác đều\")\n",
    "elif a == b or b == c or a == c:\n",
    "    print(\"Tam giác cân\")\n",
    "else:\n",
    "    print(\"Tam giác thường\")"
   ]
  },
  {
   "cell_type": "code",
   "execution_count": 10,
   "id": "c802456a-6e1d-4b77-b381-7d78a5aeaa3d",
   "metadata": {},
   "outputs": [
    {
     "name": "stdin",
     "output_type": "stream",
     "text": [
      " 2025\n"
     ]
    },
    {
     "name": "stdout",
     "output_type": "stream",
     "text": [
      "No\n"
     ]
    }
   ],
   "source": [
    "#3A12\n",
    "n = int(input().strip())\n",
    "if (n % 4 == 0 and n % 100 != 0) or (n % 400 == 0):\n",
    "    print(\"Yes\")\n",
    "else:\n",
    "    print(\"No\")"
   ]
  },
  {
   "cell_type": "code",
   "execution_count": 1,
   "id": "a7a7dd37-67bc-4924-9f10-3183cfe335f4",
   "metadata": {},
   "outputs": [
    {
     "name": "stdin",
     "output_type": "stream",
     "text": [
      "Nhập a và b:  234 3\n"
     ]
    },
    {
     "name": "stdout",
     "output_type": "stream",
     "text": [
      "Phương trình có nghiệm duy nhất x = -0.01\n"
     ]
    }
   ],
   "source": [
    "#3A14\n",
    "a,b = map(float, input(\"Nhập a và b: \").split())\n",
    "\n",
    "if a == 0:\n",
    "    if b == 0:\n",
    "        print(\"Phương trình có vô số nghiệm.\")\n",
    "    else:\n",
    "        print(\"Phương trình vô nghiệm.\")\n",
    "else:\n",
    "    x = -b / a\n",
    "    print(f\"Phương trình có nghiệm duy nhất x = {x:.2f}\")"
   ]
  },
  {
   "cell_type": "code",
   "execution_count": 2,
   "id": "61c3ee5a-352f-46c2-b6a6-989320f37e89",
   "metadata": {},
   "outputs": [
    {
     "name": "stdin",
     "output_type": "stream",
     "text": [
      " 9.5\n"
     ]
    },
    {
     "name": "stdout",
     "output_type": "stream",
     "text": [
      "Giỏi\n"
     ]
    }
   ],
   "source": [
    "#3A15\n",
    "score = float(input().strip())\n",
    "if score >= 8.0:\n",
    "    print(\"Giỏi\")\n",
    "elif score >= 6.5:\n",
    "    print(\"Khá\")\n",
    "elif score >= 5.0:\n",
    "    print(\"Trung bình\")\n",
    "else:\n",
    "    print(\"Yếu\")"
   ]
  },
  {
   "cell_type": "code",
   "execution_count": 9,
   "id": "3c6928a9-78b9-4c58-ab59-6cbdf84e9f95",
   "metadata": {},
   "outputs": [
    {
     "name": "stdin",
     "output_type": "stream",
     "text": [
      "Nhập vào một số thực:  -3.2\n"
     ]
    },
    {
     "name": "stdout",
     "output_type": "stream",
     "text": [
      "Làm tròn xuống: -4\n",
      "Làm tròn lên: -3\n",
      "Làm tròn tới số nguyên gần nhất: -3\n"
     ]
    }
   ],
   "source": [
    "#3A16\n",
    "x = float(input(\"Nhập vào một số thực: \"))\n",
    "\n",
    "if x == int(x):\n",
    "    round_down = int(x)\n",
    "elif x > 0:\n",
    "    round_down = int(x)\n",
    "else:\n",
    "    round_down = int(x) - 1\n",
    "print(\"Làm tròn xuống:\", round_down)\n",
    "\n",
    "if x == int(x) or x < 0:\n",
    "    round_up = int(x)\n",
    "else:\n",
    "    round_up = int(x) + 1\n",
    "print(\"Làm tròn lên:\", round_up)\n",
    "\n",
    "if x >= 0:\n",
    "    round_nearest = int(x + 0.5)\n",
    "else:\n",
    "    round_nearest = int(x - 0.5)\n",
    "print(\"Làm tròn tới số nguyên gần nhất:\", round_nearest)"
   ]
  },
  {
   "cell_type": "code",
   "execution_count": 8,
   "id": "e05fa7ac-28c6-4cc3-a0fd-ab97386e4c0d",
   "metadata": {},
   "outputs": [
    {
     "name": "stdin",
     "output_type": "stream",
     "text": [
      "Nhập 4 số nguyên a, b, c, d:  2 4 8 16\n"
     ]
    },
    {
     "name": "stdout",
     "output_type": "stream",
     "text": [
      "4 số trên tạo thành một cấp số nhân\n"
     ]
    }
   ],
   "source": [
    "#3A17\n",
    "a, b, c, d = map(int, input(\"Nhập 4 số nguyên a, b, c, d: \").split())\n",
    "\n",
    "capsonhan = False\n",
    "\n",
    "if a != 0:\n",
    "    if b % a == 0:\n",
    "        q = b // a\n",
    "        if b * q == c and c * q == d:\n",
    "            capsonhan = True\n",
    "\n",
    "if capsonhan:\n",
    "    print(\"4 số trên tạo thành một cấp số nhân\")\n",
    "else:\n",
    "    print(\"4 số trên không tạo thành một cấp số nhân\")"
   ]
  }
 ],
 "metadata": {
  "kernelspec": {
   "display_name": "Python 3 (ipykernel)",
   "language": "python",
   "name": "python3"
  },
  "language_info": {
   "codemirror_mode": {
    "name": "ipython",
    "version": 3
   },
   "file_extension": ".py",
   "mimetype": "text/x-python",
   "name": "python",
   "nbconvert_exporter": "python",
   "pygments_lexer": "ipython3",
   "version": "3.13.7"
  }
 },
 "nbformat": 4,
 "nbformat_minor": 5
}
